{
 "cells": [
  {
   "cell_type": "markdown",
   "metadata": {},
   "source": [
    "# Data Type: `int`"
   ]
  },
  {
   "cell_type": "markdown",
   "metadata": {},
   "source": [
    "In **Python 2**, there are two types of `int`:\n",
    "- `int`\n",
    "- `long`\n",
    "\n",
    "where `int` has 64-bit of precision for 64-bit python, that is the range of python 2 `int` is $\\left[-2^{63}, 2^{63}-1\\right]$. The maximum value can be check in the following way:"
   ]
  },
  {
   "cell_type": "code",
   "execution_count": 8,
   "metadata": {},
   "outputs": [
    {
     "data": {
      "text/plain": [
       "9223372036854775807"
      ]
     },
     "execution_count": 8,
     "metadata": {},
     "output_type": "execute_result"
    }
   ],
   "source": [
    "import sys\n",
    "sys.maxsize"
   ]
  },
  {
   "cell_type": "markdown",
   "metadata": {},
   "source": [
    "This number is $2^{63}$. If you don't believe me, math doesn't lie 😏:"
   ]
  },
  {
   "cell_type": "code",
   "execution_count": 9,
   "metadata": {},
   "outputs": [
    {
     "data": {
      "text/plain": [
       "9223372036854775807"
      ]
     },
     "execution_count": 9,
     "metadata": {},
     "output_type": "execute_result"
    }
   ],
   "source": [
    "2**63-1"
   ]
  },
  {
   "cell_type": "markdown",
   "metadata": {},
   "source": [
    "As you probably noticed, there are a total of $2^{64}$ possible ints in the range, and hence 64-bits (each bit is a base 2 int, i.e. 0 or 1).  \n",
    "For 32-bit Python 2, the maximum `int` is $2^{31}-1$."
   ]
  },
  {
   "cell_type": "markdown",
   "metadata": {},
   "source": [
    "---\n",
    "\n",
    "**Trick Question:** What happens when you have an `int` in Python 2, i.e. `x = 2 ** 62`, and you multiply it by 2, i.e. `x = x * 2`, and thus exceeding $2^{63} - 1$?\n",
    "\n",
    "You would think the `int` gets wrapped around and become negative, but python is smart enough to convert the number to `long` type whenever the `int` exceeds the Python 2 `int` range.\n",
    "\n",
    "---"
   ]
  },
  {
   "cell_type": "markdown",
   "metadata": {},
   "source": [
    "The integer type `long` on the other hand has [**unlimited precision**](https://rushter.com/blog/python-integer-implementation/)!! That means, there is no limit to how large a `long` type integer can be."
   ]
  },
  {
   "cell_type": "markdown",
   "metadata": {},
   "source": [
    " "
   ]
  },
  {
   "cell_type": "markdown",
   "metadata": {},
   "source": [
    "In **Python 3**, `int` is equivalent to Python 2's `long` type and has unlimited precision. The `long` type has been removed in Python 3."
   ]
  },
  {
   "cell_type": "markdown",
   "metadata": {},
   "source": [
    "---"
   ]
  },
  {
   "cell_type": "markdown",
   "metadata": {},
   "source": [
    "## Basic operations for `int`"
   ]
  },
  {
   "cell_type": "markdown",
   "metadata": {},
   "source": [
    "The basic operations are:  `*`, `/`, `+`, `-`, `%`."
   ]
  },
  {
   "cell_type": "code",
   "execution_count": null,
   "metadata": {},
   "outputs": [],
   "source": []
  }
 ],
 "metadata": {
  "kernelspec": {
   "display_name": "Python 3",
   "language": "python",
   "name": "python3"
  },
  "language_info": {
   "codemirror_mode": {
    "name": "ipython",
    "version": 3
   },
   "file_extension": ".py",
   "mimetype": "text/x-python",
   "name": "python",
   "nbconvert_exporter": "python",
   "pygments_lexer": "ipython3",
   "version": "3.7.3"
  }
 },
 "nbformat": 4,
 "nbformat_minor": 4
}
